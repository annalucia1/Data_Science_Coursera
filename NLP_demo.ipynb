{
 "cells": [
  {
   "cell_type": "code",
   "execution_count": 1,
   "metadata": {},
   "outputs": [],
   "source": [
    "from collections import Counter\n",
    "import numpy as np"
   ]
  },
  {
   "cell_type": "markdown",
   "metadata": {},
   "source": [
    "## Compile Documents"
   ]
  },
  {
   "cell_type": "code",
   "execution_count": 2,
   "metadata": {},
   "outputs": [],
   "source": [
    "doc1 = 'Wise people think they are foolish'\n",
    "doc2 = 'Foolish foolish people think they are wise wise'\n",
    "doc3 = 'I am definitely wise so this irritates me'\n",
    "doc4 = 'Trump is for sure like definitely foolish'"
   ]
  },
  {
   "cell_type": "markdown",
   "metadata": {},
   "source": [
    "## Create Corpus"
   ]
  },
  {
   "cell_type": "code",
   "execution_count": 3,
   "metadata": {},
   "outputs": [],
   "source": [
    "documents = [doc1, doc2, doc3, doc4]"
   ]
  },
  {
   "cell_type": "markdown",
   "metadata": {},
   "source": [
    "## Tokenize and Lower case"
   ]
  },
  {
   "cell_type": "code",
   "execution_count": 4,
   "metadata": {},
   "outputs": [
    {
     "data": {
      "text/plain": [
       "[['wise', 'people', 'think', 'they', 'are', 'foolish'],\n",
       " ['foolish', 'foolish', 'people', 'think', 'they', 'are', 'wise', 'wise'],\n",
       " ['i', 'am', 'definitely', 'wise', 'so', 'this', 'irritates', 'me'],\n",
       " ['trump', 'is', 'for', 'sure', 'like', 'definitely', 'foolish']]"
      ]
     },
     "execution_count": 4,
     "metadata": {},
     "output_type": "execute_result"
    }
   ],
   "source": [
    "from nltk.tokenize import word_tokenize\n",
    "tokenized = [word_tokenize(doc.lower()) for doc in documents]\n",
    "tokenized"
   ]
  },
  {
   "cell_type": "code",
   "execution_count": 5,
   "metadata": {},
   "outputs": [],
   "source": [
    "tokenized = [word_tokenize(doc.lower()) for doc in documents]"
   ]
  },
  {
   "cell_type": "code",
   "execution_count": 6,
   "metadata": {},
   "outputs": [
    {
     "data": {
      "text/plain": [
       "[['wise', 'people', 'think', 'they', 'are', 'foolish'],\n",
       " ['foolish', 'foolish', 'people', 'think', 'they', 'are', 'wise', 'wise'],\n",
       " ['i', 'am', 'definitely', 'wise', 'so', 'this', 'irritates', 'me'],\n",
       " ['trump', 'is', 'for', 'sure', 'like', 'definitely', 'foolish']]"
      ]
     },
     "execution_count": 6,
     "metadata": {},
     "output_type": "execute_result"
    }
   ],
   "source": [
    "tokenized"
   ]
  },
  {
   "cell_type": "markdown",
   "metadata": {},
   "source": [
    "## Remove Stop Words"
   ]
  },
  {
   "cell_type": "code",
   "execution_count": 7,
   "metadata": {},
   "outputs": [],
   "source": [
    "from nltk.corpus import stopwords\n",
    "stop = set(stopwords.words('english'))\n",
    "docs = [[word for word in words if word not in stop] \n",
    "        for words in tokenized]\n",
    "from nltk.stem.porter import PorterStemmer\n",
    "from nltk.stem.wordnet import WordNetLemmatizer\n",
    "\n",
    "porter = PorterStemmer()\n",
    "wordnet = WordNetLemmatizer()\n",
    "\n",
    "docs_stem = [[porter.stem(word) for word in words]\n",
    "               for words in docs]\n",
    "docs_lemma = [[wordnet.lemmatize(word) for word in doc]\n",
    "                for doc in docs]"
   ]
  },
  {
   "cell_type": "code",
   "execution_count": 8,
   "metadata": {},
   "outputs": [],
   "source": [
    "docs = [[word for word in words if word not in stop] \n",
    "        for words in tokenized]"
   ]
  },
  {
   "cell_type": "code",
   "execution_count": 9,
   "metadata": {
    "scrolled": true
   },
   "outputs": [
    {
     "data": {
      "text/plain": [
       "[['wise', 'people', 'think', 'foolish'],\n",
       " ['foolish', 'foolish', 'people', 'think', 'wise', 'wise'],\n",
       " ['definitely', 'wise', 'irritates'],\n",
       " ['trump', 'sure', 'like', 'definitely', 'foolish']]"
      ]
     },
     "execution_count": 9,
     "metadata": {},
     "output_type": "execute_result"
    }
   ],
   "source": [
    "docs"
   ]
  },
  {
   "cell_type": "markdown",
   "metadata": {},
   "source": [
    "## Stemming and Lemmatization"
   ]
  },
  {
   "cell_type": "code",
   "execution_count": 10,
   "metadata": {},
   "outputs": [],
   "source": [
    "from nltk.stem.porter import PorterStemmer\n",
    "from nltk.stem.wordnet import WordNetLemmatizer\n",
    "\n",
    "porter = PorterStemmer()\n",
    "wordnet = WordNetLemmatizer()\n",
    "\n",
    "docs_stem = [[porter.stem(word) for word in words]\n",
    "               for words in docs]\n",
    "docs_lemma = [[wordnet.lemmatize(word) for word in doc]\n",
    "                for doc in docs]"
   ]
  },
  {
   "cell_type": "code",
   "execution_count": 11,
   "metadata": {},
   "outputs": [
    {
     "name": "stdout",
     "output_type": "stream",
     "text": [
      "mice\n",
      "mouse\n"
     ]
    }
   ],
   "source": [
    "print(porter.stem('mice'))\n",
    "print(wordnet.lemmatize('mice'))"
   ]
  },
  {
   "cell_type": "code",
   "execution_count": 12,
   "metadata": {},
   "outputs": [
    {
     "data": {
      "text/plain": [
       "[['wise', u'peopl', 'think', 'foolish'],\n",
       " ['foolish', 'foolish', u'peopl', 'think', 'wise', 'wise'],\n",
       " [u'definit', 'wise', u'irrit'],\n",
       " ['trump', 'sure', 'like', u'definit', 'foolish']]"
      ]
     },
     "execution_count": 12,
     "metadata": {},
     "output_type": "execute_result"
    }
   ],
   "source": [
    "docs_stem"
   ]
  },
  {
   "cell_type": "code",
   "execution_count": 13,
   "metadata": {},
   "outputs": [
    {
     "data": {
      "text/plain": [
       "[['wise', 'people', 'think', 'foolish'],\n",
       " ['foolish', 'foolish', 'people', 'think', 'wise', 'wise'],\n",
       " ['definitely', 'wise', 'irritates'],\n",
       " ['trump', 'sure', 'like', 'definitely', 'foolish']]"
      ]
     },
     "execution_count": 13,
     "metadata": {},
     "output_type": "execute_result"
    }
   ],
   "source": [
    "docs_lemma"
   ]
  },
  {
   "cell_type": "markdown",
   "metadata": {},
   "source": [
    "## Vocabulary for our Corpus"
   ]
  },
  {
   "cell_type": "code",
   "execution_count": 14,
   "metadata": {},
   "outputs": [],
   "source": [
    "vocabulary = [word for doc in docs_lemma for word in doc]"
   ]
  },
  {
   "cell_type": "code",
   "execution_count": 15,
   "metadata": {},
   "outputs": [
    {
     "data": {
      "text/plain": [
       "['wise',\n",
       " 'people',\n",
       " 'think',\n",
       " 'foolish',\n",
       " 'foolish',\n",
       " 'foolish',\n",
       " 'people',\n",
       " 'think',\n",
       " 'wise',\n",
       " 'wise',\n",
       " 'definitely',\n",
       " 'wise',\n",
       " 'irritates',\n",
       " 'trump',\n",
       " 'sure',\n",
       " 'like',\n",
       " 'definitely',\n",
       " 'foolish']"
      ]
     },
     "execution_count": 15,
     "metadata": {},
     "output_type": "execute_result"
    }
   ],
   "source": [
    "vocabulary"
   ]
  },
  {
   "cell_type": "code",
   "execution_count": 16,
   "metadata": {},
   "outputs": [],
   "source": [
    "vocabulary = sorted(list(set(vocabulary)))"
   ]
  },
  {
   "cell_type": "code",
   "execution_count": 17,
   "metadata": {},
   "outputs": [
    {
     "name": "stdout",
     "output_type": "stream",
     "text": [
      "('Vocabulary (features):', ['definitely', 'foolish', 'irritates', 'like', 'people', 'sure', 'think', 'trump', 'wise'])\n"
     ]
    }
   ],
   "source": [
    "print('Vocabulary (features):', vocabulary)"
   ]
  },
  {
   "cell_type": "markdown",
   "metadata": {},
   "source": [
    "## Bag of Words"
   ]
  },
  {
   "cell_type": "code",
   "execution_count": 18,
   "metadata": {},
   "outputs": [],
   "source": [
    "from collections import Counter"
   ]
  },
  {
   "cell_type": "code",
   "execution_count": 19,
   "metadata": {},
   "outputs": [],
   "source": [
    " c = Counter(['eggs', 'ham'])"
   ]
  },
  {
   "cell_type": "code",
   "execution_count": 20,
   "metadata": {},
   "outputs": [
    {
     "data": {
      "text/plain": [
       "Counter({'eggs': 1, 'ham': 1})"
      ]
     },
     "execution_count": 20,
     "metadata": {},
     "output_type": "execute_result"
    }
   ],
   "source": [
    "c"
   ]
  },
  {
   "cell_type": "code",
   "execution_count": 21,
   "metadata": {},
   "outputs": [],
   "source": [
    "def bow_vectorize(doc, vocabulary):\n",
    "    bag_of_words = Counter(doc)\n",
    "    doc_vector = np.zeros(len(vocabulary))\n",
    "    for word_index, word in enumerate(vocabulary):\n",
    "        if word in bag_of_words:\n",
    "            doc_vector[word_index] += bag_of_words[word]\n",
    "    return doc_vector"
   ]
  },
  {
   "cell_type": "code",
   "execution_count": 22,
   "metadata": {
    "scrolled": true
   },
   "outputs": [],
   "source": [
    "bow_matrix = list()\n",
    "for doc in docs_lemma:\n",
    "    bow_matrix.append(bow_vectorize(doc, vocabulary))\n"
   ]
  },
  {
   "cell_type": "code",
   "execution_count": 23,
   "metadata": {},
   "outputs": [
    {
     "name": "stdout",
     "output_type": "stream",
     "text": [
      "('features:', ['definitely', 'foolish', 'irritates', 'like', 'people', 'sure', 'think', 'trump', 'wise'])\n",
      "('\"[\\'wise\\', \\'people\\', \\'think\\', \\'foolish\\']\":', '\\n', array([0., 1., 0., 0., 1., 0., 1., 0., 1.]), '\\n')\n",
      "('\"[\\'foolish\\', \\'foolish\\', \\'people\\', \\'think\\', \\'wise\\', \\'wise\\']\":', '\\n', array([0., 2., 0., 0., 1., 0., 1., 0., 2.]), '\\n')\n",
      "('\"[\\'definitely\\', \\'wise\\', \\'irritates\\']\":', '\\n', array([1., 0., 1., 0., 0., 0., 0., 0., 1.]), '\\n')\n",
      "('\"[\\'trump\\', \\'sure\\', \\'like\\', \\'definitely\\', \\'foolish\\']\":', '\\n', array([1., 1., 0., 1., 0., 1., 0., 1., 0.]), '\\n')\n",
      "feature matrix:\n",
      "[array([0., 1., 0., 0., 1., 0., 1., 0., 1.]), array([0., 2., 0., 0., 1., 0., 1., 0., 2.]), array([1., 0., 1., 0., 0., 0., 0., 0., 1.]), array([1., 1., 0., 1., 0., 1., 0., 1., 0.])]\n"
     ]
    }
   ],
   "source": [
    "print('features:',vocabulary)\n",
    "for i in range(len(bow_matrix)):\n",
    "    print('\"%s\":'% docs_lemma[i], '\\n', bow_matrix[i], '\\n')\n",
    "          \n",
    "print('feature matrix:')\n",
    "print(bow_matrix)"
   ]
  },
  {
   "cell_type": "markdown",
   "metadata": {},
   "source": [
    "### Bag of Words with CountVectorizer"
   ]
  },
  {
   "cell_type": "code",
   "execution_count": 24,
   "metadata": {},
   "outputs": [],
   "source": [
    "def lemmatize(doc):\n",
    "    return [wordnet.lemmatize(word) for word in word_tokenize(doc.lower())]\n"
   ]
  },
  {
   "cell_type": "code",
   "execution_count": 25,
   "metadata": {},
   "outputs": [],
   "source": [
    "from sklearn.feature_extraction.text import CountVectorizer\n",
    "\n",
    "count_vectorizer = CountVectorizer(stop_words=stopwords.words('english'),\n",
    "                                   vocabulary=vocabulary,\n",
    "                                   tokenizer=lemmatize)\n",
    "\n",
    "feature_matrix = count_vectorizer.fit_transform([doc1])"
   ]
  },
  {
   "cell_type": "code",
   "execution_count": 26,
   "metadata": {},
   "outputs": [
    {
     "data": {
      "text/plain": [
       "array([[0, 1, 0, 0, 1, 0, 1, 0, 1]])"
      ]
     },
     "execution_count": 26,
     "metadata": {},
     "output_type": "execute_result"
    }
   ],
   "source": [
    "feature_matrix.toarray()"
   ]
  },
  {
   "cell_type": "code",
   "execution_count": 27,
   "metadata": {},
   "outputs": [
    {
     "name": "stdout",
     "output_type": "stream",
     "text": [
      "('Vectorize:', 'Wise people think they are foolish')\n",
      "('Lemmatized:', ['wise', 'people', 'think', 'foolish'])\n",
      "('Features:', ['definitely', 'foolish', 'irritates', 'like', 'people', 'sure', 'think', 'trump', 'wise'])\n",
      "\n",
      "\n",
      "('sklearn result', <1x9 sparse matrix of type '<type 'numpy.int64'>'\n",
      "\twith 4 stored elements in Compressed Sparse Row format>)\n",
      "('our result', array([0., 1., 0., 0., 1., 0., 1., 0., 1.]))\n",
      "\n",
      "\n",
      "feature matrix\n",
      "[[0 1 0 0 1 0 1 0 1]\n",
      " [0 2 0 0 1 0 1 0 2]\n",
      " [1 0 1 0 0 0 0 0 1]\n",
      " [1 1 0 1 0 1 0 1 0]]\n"
     ]
    }
   ],
   "source": [
    "print('Vectorize:',doc1)\n",
    "print('Lemmatized:',docs_lemma[0])\n",
    "print('Features:', vocabulary)\n",
    "print('\\n')\n",
    "print('sklearn result',feature_matrix)\n",
    "print('our result',bow_vectorize(docs_lemma[0], vocabulary))\n",
    "print('\\n')\n",
    "print('feature matrix')\n",
    "print(count_vectorizer.fit_transform(documents).todense())"
   ]
  },
  {
   "cell_type": "markdown",
   "metadata": {},
   "source": [
    "## Term Frequency (Tf)"
   ]
  },
  {
   "cell_type": "code",
   "execution_count": 28,
   "metadata": {},
   "outputs": [],
   "source": [
    "def tf_vectorize(doc, vocabulary):\n",
    "    bow_vector = bow_vectorize(doc, vocabulary)\n",
    "    tf_vector = np.zeros(len(vocabulary))\n",
    "    for idx, vec in enumerate(bow_vector):\n",
    "        tf_vector[idx] = vec / len(doc)\n",
    "    return tf_vector"
   ]
  },
  {
   "cell_type": "code",
   "execution_count": 29,
   "metadata": {},
   "outputs": [],
   "source": [
    "tf_matrix = list()\n",
    "for doc in docs_lemma:\n",
    "    tf_matrix.append(tf_vectorize(doc, vocabulary))"
   ]
  },
  {
   "cell_type": "code",
   "execution_count": 30,
   "metadata": {},
   "outputs": [
    {
     "name": "stdout",
     "output_type": "stream",
     "text": [
      "('features:', ['definitely', 'foolish', 'irritates', 'like', 'people', 'sure', 'think', 'trump', 'wise'])\n",
      "('\"[\\'wise\\', \\'people\\', \\'think\\', \\'foolish\\']\":', '\\n', array([0.  , 0.25, 0.  , 0.  , 0.25, 0.  , 0.25, 0.  , 0.25]), '\\n')\n",
      "('\"[\\'foolish\\', \\'foolish\\', \\'people\\', \\'think\\', \\'wise\\', \\'wise\\']\":', '\\n', array([0.        , 0.33333333, 0.        , 0.        , 0.16666667,\n",
      "       0.        , 0.16666667, 0.        , 0.33333333]), '\\n')\n",
      "('\"[\\'definitely\\', \\'wise\\', \\'irritates\\']\":', '\\n', array([0.33333333, 0.        , 0.33333333, 0.        , 0.        ,\n",
      "       0.        , 0.        , 0.        , 0.33333333]), '\\n')\n",
      "('\"[\\'trump\\', \\'sure\\', \\'like\\', \\'definitely\\', \\'foolish\\']\":', '\\n', array([0.2, 0.2, 0. , 0.2, 0. , 0.2, 0. , 0.2, 0. ]), '\\n')\n"
     ]
    }
   ],
   "source": [
    "print('features:', vocabulary)\n",
    "\n",
    "for i in range(len(tf_matrix)):\n",
    "    print('\"%s\":'%docs_lemma[i], '\\n', tf_matrix[i], '\\n')"
   ]
  },
  {
   "cell_type": "markdown",
   "metadata": {},
   "source": [
    "## Some Tf-Idf "
   ]
  },
  {
   "cell_type": "code",
   "execution_count": 31,
   "metadata": {},
   "outputs": [],
   "source": [
    "from sklearn.feature_extraction.text import TfidfVectorizer\n",
    "\n",
    "tfidf_vectorizer = TfidfVectorizer(stop_words=stopwords.words('english'),\n",
    "                                   vocabulary=vocabulary)\n",
    "tfidf_matrix = tfidf_vectorizer.fit_transform(documents).todense()"
   ]
  },
  {
   "cell_type": "code",
   "execution_count": 32,
   "metadata": {},
   "outputs": [
    {
     "data": {
      "text/plain": [
       "matrix([[0.        , 0.44493104, 0.        , 0.        , 0.54957835,\n",
       "         0.        , 0.54957835, 0.        , 0.44493104],\n",
       "        [0.        , 0.60161783, 0.        , 0.        , 0.37155886,\n",
       "         0.        , 0.37155886, 0.        , 0.60161783],\n",
       "        [0.55349232, 0.        , 0.70203482, 0.        , 0.        ,\n",
       "         0.        , 0.        , 0.        , 0.44809973],\n",
       "        [0.39278432, 0.31799276, 0.        , 0.49819711, 0.        ,\n",
       "         0.49819711, 0.        , 0.49819711, 0.        ]])"
      ]
     },
     "execution_count": 32,
     "metadata": {},
     "output_type": "execute_result"
    }
   ],
   "source": [
    "tfidf_matrix"
   ]
  },
  {
   "cell_type": "code",
   "execution_count": 33,
   "metadata": {},
   "outputs": [
    {
     "name": "stdout",
     "output_type": "stream",
     "text": [
      "('features:', ['definitely', 'foolish', 'irritates', 'like', 'people', 'sure', 'think', 'trump', 'wise'])\n",
      "('\"[\\'wise\\', \\'people\\', \\'think\\', \\'foolish\\']\":', '\\n', matrix([[0.        , 0.44493104, 0.        , 0.        , 0.54957835,\n",
      "         0.        , 0.54957835, 0.        , 0.44493104]]), '\\n')\n",
      "('\"[\\'foolish\\', \\'foolish\\', \\'people\\', \\'think\\', \\'wise\\', \\'wise\\']\":', '\\n', matrix([[0.        , 0.60161783, 0.        , 0.        , 0.37155886,\n",
      "         0.        , 0.37155886, 0.        , 0.60161783]]), '\\n')\n",
      "('\"[\\'definitely\\', \\'wise\\', \\'irritates\\']\":', '\\n', matrix([[0.55349232, 0.        , 0.70203482, 0.        , 0.        ,\n",
      "         0.        , 0.        , 0.        , 0.44809973]]), '\\n')\n",
      "('\"[\\'trump\\', \\'sure\\', \\'like\\', \\'definitely\\', \\'foolish\\']\":', '\\n', matrix([[0.39278432, 0.31799276, 0.        , 0.49819711, 0.        ,\n",
      "         0.49819711, 0.        , 0.49819711, 0.        ]]), '\\n')\n"
     ]
    }
   ],
   "source": [
    "print('features:',vocabulary)\n",
    "\n",
    "for i in range(len(tfidf_matrix)):\n",
    "    print('\"%s\":'%docs_lemma[i], '\\n', tfidf_matrix[i], '\\n')"
   ]
  },
  {
   "cell_type": "markdown",
   "metadata": {},
   "source": [
    "## Euclidian Distance Comparison"
   ]
  },
  {
   "cell_type": "code",
   "execution_count": 34,
   "metadata": {},
   "outputs": [],
   "source": [
    "from sklearn.metrics.pairwise import euclidean_distances"
   ]
  },
  {
   "cell_type": "code",
   "execution_count": 35,
   "metadata": {},
   "outputs": [
    {
     "data": {
      "text/plain": [
       "array([0., 1., 0., 0., 1., 0., 1., 0., 1.])"
      ]
     },
     "execution_count": 35,
     "metadata": {},
     "output_type": "execute_result"
    }
   ],
   "source": [
    "bow_matrix[0]"
   ]
  },
  {
   "cell_type": "code",
   "execution_count": 36,
   "metadata": {},
   "outputs": [
    {
     "data": {
      "text/plain": [
       "array([0., 2., 0., 0., 1., 0., 1., 0., 2.])"
      ]
     },
     "execution_count": 36,
     "metadata": {},
     "output_type": "execute_result"
    }
   ],
   "source": [
    "bow_matrix[1]"
   ]
  },
  {
   "cell_type": "code",
   "execution_count": 37,
   "metadata": {},
   "outputs": [
    {
     "name": "stdout",
     "output_type": "stream",
     "text": [
      "Compare \"Wise people think they are foolish\" \n",
      "with \"Foolish foolish people think they are wise wise\"\n",
      "[[1.41421356]]\n"
     ]
    }
   ],
   "source": [
    "print('Compare \"%s\" \\nwith \"%s\"'%(doc1, doc2))\n",
    "print(euclidean_distances(bow_matrix[0].reshape(1, -1), bow_matrix[1].reshape(1, -1)))"
   ]
  },
  {
   "cell_type": "code",
   "execution_count": 38,
   "metadata": {},
   "outputs": [
    {
     "name": "stdout",
     "output_type": "stream",
     "text": [
      "Compare \"Wise people think they are foolish\" \n",
      "with \"Foolish foolish people think they are wise wise\"\n",
      "[[0.16666667]]\n"
     ]
    }
   ],
   "source": [
    "print('Compare \"%s\" \\nwith \"%s\"'%(doc1, doc2))\n",
    "print(euclidean_distances(tf_matrix[0].reshape(1, -1), tf_matrix[1].reshape(1, -1)))"
   ]
  },
  {
   "cell_type": "code",
   "execution_count": 39,
   "metadata": {},
   "outputs": [
    {
     "name": "stdout",
     "output_type": "stream",
     "text": [
      "Compare \"Wise people think they are foolish\" \n",
      "with \"Foolish foolish people think they are wise wise\"\n",
      "[[0.33538543]]\n"
     ]
    }
   ],
   "source": [
    "print('Compare \"%s\" \\nwith \"%s\"'%(doc1, doc2))\n",
    "print(euclidean_distances(tfidf_matrix[0].reshape(1, -1), tfidf_matrix[1].reshape(1, -1)))"
   ]
  },
  {
   "cell_type": "markdown",
   "metadata": {},
   "source": [
    "## Cosine Similarity Comparison"
   ]
  },
  {
   "cell_type": "code",
   "execution_count": 40,
   "metadata": {},
   "outputs": [],
   "source": [
    "from sklearn.metrics.pairwise import cosine_similarity"
   ]
  },
  {
   "cell_type": "code",
   "execution_count": 41,
   "metadata": {},
   "outputs": [
    {
     "name": "stdout",
     "output_type": "stream",
     "text": [
      "Compare \"Wise people think they are foolish\" \n",
      "with \"Foolish foolish people think they are wise wise\"\n",
      "[[0.9486833]]\n"
     ]
    }
   ],
   "source": [
    "print('Compare \"%s\" \\nwith \"%s\"'%(doc1, doc2))\n",
    "print(cosine_similarity(bow_matrix[0].reshape(1, -1), bow_matrix[1].reshape(1, -1)))"
   ]
  },
  {
   "cell_type": "code",
   "execution_count": 42,
   "metadata": {},
   "outputs": [
    {
     "name": "stdout",
     "output_type": "stream",
     "text": [
      "Compare \"Wise people think they are foolish\" \n",
      "with \"Foolish foolish people think they are wise wise\"\n",
      "[[0.9486833]]\n"
     ]
    }
   ],
   "source": [
    "print('Compare \"%s\" \\nwith \"%s\"'%(doc1, doc2))\n",
    "print(cosine_similarity(tf_matrix[0].reshape(1, -1), tf_matrix[1].reshape(1, -1)))"
   ]
  },
  {
   "cell_type": "code",
   "execution_count": 43,
   "metadata": {},
   "outputs": [
    {
     "name": "stdout",
     "output_type": "stream",
     "text": [
      "Compare \"Wise people think they are foolish\" \n",
      "with \"Foolish foolish people think they are wise wise\"\n",
      "[[0.94375831]]\n"
     ]
    }
   ],
   "source": [
    "print('Compare \"%s\" \\nwith \"%s\"'%(doc1, doc2))\n",
    "print(cosine_similarity(tfidf_matrix[0].reshape(1, -1), tfidf_matrix[1].reshape(1, -1)))"
   ]
  },
  {
   "cell_type": "markdown",
   "metadata": {},
   "source": [
    "# Search Engine Query Example"
   ]
  },
  {
   "cell_type": "code",
   "execution_count": 44,
   "metadata": {},
   "outputs": [],
   "source": [
    "query = 'The foolish Trump'"
   ]
  },
  {
   "cell_type": "code",
   "execution_count": 45,
   "metadata": {},
   "outputs": [
    {
     "name": "stdout",
     "output_type": "stream",
     "text": [
      "('Query:', 'The foolish Trump')\n",
      "('Vectorized query:', matrix([[0.        , 0.53802897, 0.        , 0.        , 0.        ,\n",
      "         0.        , 0.        , 0.84292635, 0.        ]]))\n"
     ]
    }
   ],
   "source": [
    "query_vectorized = tfidf_vectorizer.transform([query]).todense()\n",
    "print(\"Query:\", query)\n",
    "print(\"Vectorized query:\", query_vectorized)"
   ]
  },
  {
   "cell_type": "code",
   "execution_count": 46,
   "metadata": {},
   "outputs": [
    {
     "name": "stdout",
     "output_type": "stream",
     "text": [
      "('Wise people think they are foolish', array([[0.23938579]]))\n",
      "('Foolish foolish people think they are wise wise', array([[0.32368782]]))\n",
      "('I am definitely wise so this irritates me', array([[0.]]))\n",
      "('Trump is for sure like definitely foolish', array([[0.59103279]]))\n"
     ]
    }
   ],
   "source": [
    "for doc, tf_doc in zip(documents, tfidf_matrix):\n",
    "    print(doc, cosine_similarity(query_vectorized.reshape(1, -1), tf_doc.reshape(1, -1)))"
   ]
  },
  {
   "cell_type": "markdown",
   "metadata": {},
   "source": [
    "## A Final Cosine Similiarity Thingy"
   ]
  },
  {
   "cell_type": "code",
   "execution_count": 47,
   "metadata": {},
   "outputs": [
    {
     "name": "stdout",
     "output_type": "stream",
     "text": [
      "\"Wise people think they are foolish\" compared with \"Foolish foolish people think they are wise wise\"\n",
      "('TF cosine similarity:', array([[0.9486833]]))\n",
      "('TF-IDF cosine similarity:', array([[0.94375831]]))\n",
      "\"Wise people think they are foolish\" compared with \"I am definitely wise so this irritates me\"\n",
      "('TF cosine similarity:', array([[0.28867513]]))\n",
      "('TF-IDF cosine similarity:', array([[0.19937348]]))\n",
      "\"Wise people think they are foolish\" compared with \"Trump is for sure like definitely foolish\"\n",
      "('TF cosine similarity:', array([[0.2236068]]))\n",
      "('TF-IDF cosine similarity:', array([[0.14148485]]))\n"
     ]
    }
   ],
   "source": [
    "for index in range(len(documents[1:])):\n",
    "    print('\"%s\" compared with \"%s\"'%(documents[0], documents[index+1]))\n",
    "    print('TF cosine similarity:', cosine_similarity(tf_matrix[0].reshape(1, -1),\n",
    "                                                     tf_matrix[index+1].reshape(1, -1)))\n",
    "    print('TF-IDF cosine similarity:', cosine_similarity(tfidf_matrix[0].reshape(1, -1),\n",
    "                                                         tfidf_matrix[index+1].reshape(1, -1)))\n",
    "    "
   ]
  },
  {
   "cell_type": "code",
   "execution_count": null,
   "metadata": {},
   "outputs": [],
   "source": []
  },
  {
   "cell_type": "code",
   "execution_count": null,
   "metadata": {},
   "outputs": [],
   "source": []
  }
 ],
 "metadata": {
  "anaconda-cloud": {},
  "kernelspec": {
   "display_name": "Python 2",
   "language": "python",
   "name": "python2"
  },
  "language_info": {
   "codemirror_mode": {
    "name": "ipython",
    "version": 2
   },
   "file_extension": ".py",
   "mimetype": "text/x-python",
   "name": "python",
   "nbconvert_exporter": "python",
   "pygments_lexer": "ipython2",
   "version": "2.7.15"
  }
 },
 "nbformat": 4,
 "nbformat_minor": 1
}
